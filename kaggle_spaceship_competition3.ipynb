{
 "cells": [
  {
   "cell_type": "code",
   "execution_count": null,
   "metadata": {
    "_cell_guid": "b1076dfc-b9ad-4769-8c92-a6c4dae69d19",
    "_uuid": "8f2839f25d086af736a60e9eeb907d3b93b6e0e5",
    "execution": {
     "iopub.execute_input": "2023-01-28T11:07:48.956693Z",
     "iopub.status.busy": "2023-01-28T11:07:48.956225Z",
     "iopub.status.idle": "2023-01-28T11:07:48.96716Z",
     "shell.execute_reply": "2023-01-28T11:07:48.965662Z",
     "shell.execute_reply.started": "2023-01-28T11:07:48.956658Z"
    }
   },
   "outputs": [],
   "source": [
    "# This Python 3 environment comes with many helpful analytics libraries installed\n",
    "# It is defined by the kaggle/python Docker image: https://github.com/kaggle/docker-python\n",
    "# For example, here's several helpful packages to load\n",
    "\n",
    "import numpy as np # linear algebra\n",
    "import pandas as pd # data processing, CSV file I/O (e.g. pd.read_csv)\n",
    "\n",
    "# Input data files are available in the read-only \"../input/\" directory\n",
    "# For example, running this (by clicking run or pressing Shift+Enter) will list all files under the input directory\n",
    "\n",
    "import os\n",
    "for dirname, _, filenames in os.walk('/kaggle/input'):\n",
    "    for filename in filenames:\n",
    "        print(os.path.join(dirname, filename))\n",
    "\n",
    "# You can write up to 20GB to the current directory (/kaggle/working/) that gets preserved as output when you create a version using \"Save & Run All\" \n",
    "# You can also write temporary files to /kaggle/temp/, but they won't be saved outside of the current session\n",
    "#PP"
   ]
  },
  {
   "cell_type": "markdown",
   "metadata": {},
   "source": [
    "# Import"
   ]
  },
  {
   "cell_type": "code",
   "execution_count": null,
   "metadata": {
    "execution": {
     "iopub.execute_input": "2023-01-28T11:07:48.972456Z",
     "iopub.status.busy": "2023-01-28T11:07:48.972046Z",
     "iopub.status.idle": "2023-01-28T11:07:48.981807Z",
     "shell.execute_reply": "2023-01-28T11:07:48.980347Z",
     "shell.execute_reply.started": "2023-01-28T11:07:48.972417Z"
    }
   },
   "outputs": [],
   "source": [
    "from matplotlib import pyplot as plt\n",
    "import seaborn as sns"
   ]
  },
  {
   "cell_type": "markdown",
   "metadata": {},
   "source": [
    "# Data understanding and cleaning"
   ]
  },
  {
   "cell_type": "code",
   "execution_count": null,
   "metadata": {
    "execution": {
     "iopub.execute_input": "2023-01-28T11:07:48.993398Z",
     "iopub.status.busy": "2023-01-28T11:07:48.993015Z",
     "iopub.status.idle": "2023-01-28T11:07:49.039261Z",
     "shell.execute_reply": "2023-01-28T11:07:49.037767Z",
     "shell.execute_reply.started": "2023-01-28T11:07:48.993369Z"
    }
   },
   "outputs": [],
   "source": [
    "# Read the data\n",
    "df = pd.read_csv('/kaggle/input/spaceship-titanic/train.csv')\n",
    "\n",
    "df.head()"
   ]
  },
  {
   "cell_type": "code",
   "execution_count": null,
   "metadata": {
    "execution": {
     "iopub.execute_input": "2023-01-28T11:07:49.041914Z",
     "iopub.status.busy": "2023-01-28T11:07:49.04154Z",
     "iopub.status.idle": "2023-01-28T11:07:49.047314Z",
     "shell.execute_reply": "2023-01-28T11:07:49.045889Z",
     "shell.execute_reply.started": "2023-01-28T11:07:49.04188Z"
    }
   },
   "outputs": [],
   "source": [
    "num_of_obj, _ = df.shape"
   ]
  },
  {
   "cell_type": "code",
   "execution_count": null,
   "metadata": {
    "execution": {
     "iopub.execute_input": "2023-01-28T11:07:49.049246Z",
     "iopub.status.busy": "2023-01-28T11:07:49.048908Z",
     "iopub.status.idle": "2023-01-28T11:07:49.075052Z",
     "shell.execute_reply": "2023-01-28T11:07:49.073866Z",
     "shell.execute_reply.started": "2023-01-28T11:07:49.049214Z"
    }
   },
   "outputs": [],
   "source": [
    "df.duplicated().sum()"
   ]
  },
  {
   "cell_type": "code",
   "execution_count": null,
   "metadata": {
    "execution": {
     "iopub.execute_input": "2023-01-28T11:07:49.077239Z",
     "iopub.status.busy": "2023-01-28T11:07:49.076897Z",
     "iopub.status.idle": "2023-01-28T11:07:49.096716Z",
     "shell.execute_reply": "2023-01-28T11:07:49.095142Z",
     "shell.execute_reply.started": "2023-01-28T11:07:49.07721Z"
    }
   },
   "outputs": [],
   "source": [
    "df.info()"
   ]
  },
  {
   "cell_type": "code",
   "execution_count": null,
   "metadata": {
    "execution": {
     "iopub.execute_input": "2023-01-28T11:07:49.098375Z",
     "iopub.status.busy": "2023-01-28T11:07:49.098059Z",
     "iopub.status.idle": "2023-01-28T11:07:49.131213Z",
     "shell.execute_reply": "2023-01-28T11:07:49.129639Z",
     "shell.execute_reply.started": "2023-01-28T11:07:49.098347Z"
    }
   },
   "outputs": [],
   "source": [
    "df.describe()"
   ]
  },
  {
   "cell_type": "code",
   "execution_count": null,
   "metadata": {
    "execution": {
     "iopub.execute_input": "2023-01-28T11:07:49.133995Z",
     "iopub.status.busy": "2023-01-28T11:07:49.133452Z",
     "iopub.status.idle": "2023-01-28T11:07:49.143755Z",
     "shell.execute_reply": "2023-01-28T11:07:49.142534Z",
     "shell.execute_reply.started": "2023-01-28T11:07:49.133961Z"
    }
   },
   "outputs": [],
   "source": [
    "def analyse_na(data_frame):\n",
    "    \n",
    "    list_with_columns_with_na = []\n",
    "    list_with_count_of_na = []\n",
    "    list_with_fraction_of_na = []\n",
    "    list_with_types_of_columns = []\n",
    "    \n",
    "    try:\n",
    "        for column in data_frame.columns:\n",
    "            num_of_miss_values = data_frame[column].isna().sum()\n",
    "            if num_of_miss_values:\n",
    "                fraction_of_null = round(num_of_miss_values / num_of_obj, 3)\n",
    "                list_with_columns_with_na.append(column)\n",
    "                list_with_count_of_na.append(num_of_miss_values)\n",
    "                list_with_fraction_of_na.append(fraction_of_null)\n",
    "                list_with_types_of_columns.append(data_frame[column].dtype)\n",
    "    except:\n",
    "        print('Check ur data!!!')\n",
    "        \n",
    "    df_to_return = pd.DataFrame({\n",
    "        'columns': list_with_columns_with_na,\n",
    "        'count_of_na': list_with_count_of_na,\n",
    "        'fraction_of_na': list_with_fraction_of_na,\n",
    "        'type': list_with_types_of_columns\n",
    "    })\n",
    "    \n",
    "    df_to_return = df_to_return.sort_values('count_of_na', ascending=False).reset_index(drop=True)\n",
    "    \n",
    "    return df_to_return"
   ]
  },
  {
   "cell_type": "code",
   "execution_count": null,
   "metadata": {
    "execution": {
     "iopub.execute_input": "2023-01-28T11:07:49.145519Z",
     "iopub.status.busy": "2023-01-28T11:07:49.145141Z",
     "iopub.status.idle": "2023-01-28T11:07:51.458796Z",
     "shell.execute_reply": "2023-01-28T11:07:51.45635Z",
     "shell.execute_reply.started": "2023-01-28T11:07:49.145486Z"
    }
   },
   "outputs": [],
   "source": [
    "for column in df.select_dtypes(include=['float64']):\n",
    "    df.hist(column, bins=80)\n",
    "    print()"
   ]
  },
  {
   "cell_type": "code",
   "execution_count": null,
   "metadata": {
    "execution": {
     "iopub.execute_input": "2023-01-28T11:07:51.463924Z",
     "iopub.status.busy": "2023-01-28T11:07:51.461521Z",
     "iopub.status.idle": "2023-01-28T11:07:51.49215Z",
     "shell.execute_reply": "2023-01-28T11:07:51.490886Z",
     "shell.execute_reply.started": "2023-01-28T11:07:51.463863Z"
    }
   },
   "outputs": [],
   "source": [
    "df.pivot_table(index='CryoSleep')"
   ]
  },
  {
   "cell_type": "code",
   "execution_count": null,
   "metadata": {
    "execution": {
     "iopub.execute_input": "2023-01-28T11:07:51.495046Z",
     "iopub.status.busy": "2023-01-28T11:07:51.494615Z",
     "iopub.status.idle": "2023-01-28T11:07:51.528747Z",
     "shell.execute_reply": "2023-01-28T11:07:51.527254Z",
     "shell.execute_reply.started": "2023-01-28T11:07:51.495011Z"
    }
   },
   "outputs": [],
   "source": [
    "names_of_columns = analyse_na(df)\n",
    "names_of_columns"
   ]
  },
  {
   "cell_type": "code",
   "execution_count": null,
   "metadata": {
    "execution": {
     "iopub.execute_input": "2023-01-28T11:07:51.531672Z",
     "iopub.status.busy": "2023-01-28T11:07:51.531138Z",
     "iopub.status.idle": "2023-01-28T11:07:51.539432Z",
     "shell.execute_reply": "2023-01-28T11:07:51.537944Z",
     "shell.execute_reply.started": "2023-01-28T11:07:51.531618Z"
    }
   },
   "outputs": [],
   "source": [
    "def split_cabin(x):\n",
    "    if len(str(x).split('/')) < 3:\n",
    "        return ['Missing', 'Missing', \"Missing\"]\n",
    "    else:   \n",
    "        return str(x).split('/')"
   ]
  },
  {
   "cell_type": "code",
   "execution_count": null,
   "metadata": {
    "execution": {
     "iopub.execute_input": "2023-01-28T11:07:51.542611Z",
     "iopub.status.busy": "2023-01-28T11:07:51.541418Z",
     "iopub.status.idle": "2023-01-28T11:07:51.559907Z",
     "shell.execute_reply": "2023-01-28T11:07:51.558505Z",
     "shell.execute_reply.started": "2023-01-28T11:07:51.542551Z"
    }
   },
   "outputs": [],
   "source": [
    "def clean(data):\n",
    "    data.drop('Name', axis=1, inplace=True)\n",
    "    \n",
    "    data['ShoppingMall'].fillna(0,inplace=True)\n",
    "    data['VRDeck'].fillna(0,inplace=True)\n",
    "    data['FoodCourt'].fillna(0,inplace=True)\n",
    "    data['Spa'].fillna(0,inplace=True)\n",
    "    data['RoomService'].fillna(0,inplace=True)\n",
    "    \n",
    "    data['TempCabin'] = data['Cabin'].apply(lambda x: split_cabin(x))\n",
    "    data['Deck'] = data['TempCabin'].apply(lambda x: x[0])\n",
    "    data['Side'] = data['TempCabin'].apply(lambda x: x[2])\n",
    "    data.drop(['TempCabin', 'Cabin'], axis=1, inplace=True) \n",
    "    \n",
    "    data['VIP'].fillna('Missing', inplace=True)\n",
    "    data['HomePlanet'].fillna('Missing', inplace=True)\n",
    "    data['Destination'].fillna('Missing', inplace=True)\n",
    "    \n",
    "    data['Age'].fillna(data['Age'].median(), inplace=True)\n",
    "    data['Category_age'] = data['Age'].apply(lambda x: x // 10)\n",
    "    data.drop('Age', axis=1, inplace=True)\n",
    "    \n",
    "    data.loc[(data['CryoSleep'].isna()) & (data['ShoppingMall'] + data['VRDeck'] + \\\n",
    "            data['FoodCourt'] + data['Spa'] + data['RoomService'] == 0), 'CryoSleep'] = \\\n",
    "    data.loc[(data['CryoSleep'].isna()) & (data['ShoppingMall'] + data['VRDeck'] + \\\n",
    "            data['FoodCourt'] + data['Spa'] + data['RoomService'] == 0), 'CryoSleep'].fillna(True)\n",
    "    data['CryoSleep'].fillna(False, inplace=True)"
   ]
  },
  {
   "cell_type": "code",
   "execution_count": null,
   "metadata": {
    "execution": {
     "iopub.execute_input": "2023-01-28T11:07:51.562425Z",
     "iopub.status.busy": "2023-01-28T11:07:51.561416Z",
     "iopub.status.idle": "2023-01-28T11:07:51.576873Z",
     "shell.execute_reply": "2023-01-28T11:07:51.575917Z",
     "shell.execute_reply.started": "2023-01-28T11:07:51.562373Z"
    }
   },
   "outputs": [],
   "source": [
    "def combo_info(data):\n",
    "    print('First 5 indexes:')\n",
    "    display(cdf.head())\n",
    "    print()\n",
    "    print('analyse_na:')\n",
    "    display(analyse_na(cdf))\n",
    "    print()\n",
    "    print('Info:')\n",
    "    display(data.info())"
   ]
  },
  {
   "cell_type": "code",
   "execution_count": null,
   "metadata": {
    "execution": {
     "iopub.execute_input": "2023-01-28T11:07:51.581248Z",
     "iopub.status.busy": "2023-01-28T11:07:51.580009Z",
     "iopub.status.idle": "2023-01-28T11:07:51.688845Z",
     "shell.execute_reply": "2023-01-28T11:07:51.687931Z",
     "shell.execute_reply.started": "2023-01-28T11:07:51.581186Z"
    }
   },
   "outputs": [],
   "source": [
    "cdf = df.copy()\n",
    "clean(cdf)\n",
    "combo_info(cdf)"
   ]
  },
  {
   "cell_type": "markdown",
   "metadata": {},
   "source": [
    "# Models"
   ]
  },
  {
   "cell_type": "code",
   "execution_count": null,
   "metadata": {
    "execution": {
     "iopub.execute_input": "2023-01-28T11:07:51.69058Z",
     "iopub.status.busy": "2023-01-28T11:07:51.690098Z",
     "iopub.status.idle": "2023-01-28T11:07:51.697212Z",
     "shell.execute_reply": "2023-01-28T11:07:51.695861Z",
     "shell.execute_reply.started": "2023-01-28T11:07:51.690532Z"
    }
   },
   "outputs": [],
   "source": [
    "from sklearn.model_selection import train_test_split\n",
    "from sklearn.metrics import accuracy_score, precision_score, recall_score, roc_curve, roc_auc_score"
   ]
  },
  {
   "cell_type": "code",
   "execution_count": null,
   "metadata": {
    "execution": {
     "iopub.execute_input": "2023-01-28T11:07:51.699105Z",
     "iopub.status.busy": "2023-01-28T11:07:51.698714Z",
     "iopub.status.idle": "2023-01-28T11:07:51.726102Z",
     "shell.execute_reply": "2023-01-28T11:07:51.724915Z",
     "shell.execute_reply.started": "2023-01-28T11:07:51.699069Z"
    }
   },
   "outputs": [],
   "source": [
    "X = cdf.drop(['Transported', 'PassengerId'], axis=1)\n",
    "X = pd.get_dummies(X)\n",
    "y = cdf['Transported']"
   ]
  },
  {
   "cell_type": "code",
   "execution_count": null,
   "metadata": {
    "execution": {
     "iopub.execute_input": "2023-01-28T11:07:51.728405Z",
     "iopub.status.busy": "2023-01-28T11:07:51.727478Z",
     "iopub.status.idle": "2023-01-28T11:07:51.742888Z",
     "shell.execute_reply": "2023-01-28T11:07:51.741287Z",
     "shell.execute_reply.started": "2023-01-28T11:07:51.728368Z"
    }
   },
   "outputs": [],
   "source": [
    "x_train, x_test, y_train, y_test = train_test_split(X, y, test_size=0.3, random_state=1)\n",
    "print('x_train:', x_train.shape, 'y_train:', y_train.shape)"
   ]
  },
  {
   "cell_type": "code",
   "execution_count": null,
   "metadata": {
    "execution": {
     "iopub.execute_input": "2023-01-28T11:08:23.898979Z",
     "iopub.status.busy": "2023-01-28T11:08:23.898589Z",
     "iopub.status.idle": "2023-01-28T11:08:23.908582Z",
     "shell.execute_reply": "2023-01-28T11:08:23.907595Z",
     "shell.execute_reply.started": "2023-01-28T11:08:23.898944Z"
    }
   },
   "outputs": [],
   "source": [
    "# from sklearn.linear_model import LogisticRegression\n",
    "\n",
    "from sklearn.ensemble import GradientBoostingClassifier, RandomForestClassifier\n",
    "\n",
    "from sklearn.model_selection import KFold"
   ]
  },
  {
   "cell_type": "code",
   "execution_count": null,
   "metadata": {
    "execution": {
     "iopub.execute_input": "2023-01-28T11:08:23.910703Z",
     "iopub.status.busy": "2023-01-28T11:08:23.910242Z",
     "iopub.status.idle": "2023-01-28T11:08:23.922229Z",
     "shell.execute_reply": "2023-01-28T11:08:23.920913Z",
     "shell.execute_reply.started": "2023-01-28T11:08:23.910664Z"
    }
   },
   "outputs": [],
   "source": [
    "def stats_of_test(model):\n",
    "    predict = model.predict(x_test)\n",
    "    accuracy = accuracy_score(y_test, predict)\n",
    "    precision = precision_score(y_test, predict)\n",
    "    recall = recall_score(y_test, predict)\n",
    "    return [accuracy, precision, recall]"
   ]
  },
  {
   "cell_type": "code",
   "execution_count": null,
   "metadata": {
    "execution": {
     "iopub.execute_input": "2023-01-28T11:08:23.925072Z",
     "iopub.status.busy": "2023-01-28T11:08:23.923999Z",
     "iopub.status.idle": "2023-01-28T11:08:23.937656Z",
     "shell.execute_reply": "2023-01-28T11:08:23.936246Z",
     "shell.execute_reply.started": "2023-01-28T11:08:23.92503Z"
    }
   },
   "outputs": [],
   "source": [
    "def train_model(model, splitter, x_data, y_data):\n",
    "    \n",
    "    list_with_acc = []\n",
    "    list_with_pre = []\n",
    "    list_with_rec = []\n",
    "    \n",
    "    for train_index, test_index in splitter.split(x_data):\n",
    "       \n",
    "        \n",
    "        x_train, x_test = x_data[train_index], x_data[test_index] \n",
    "        y_train, y_test = y_data[train_index], y_data[test_index]\n",
    "        \n",
    "        \n",
    "        model.fit(x_train, y_train)\n",
    "        \n",
    "        predict = model.predict(x_test)\n",
    "        \n",
    "        accuracy = accuracy_score(y_test, predict)\n",
    "        precision = precision_score(y_test, predict)\n",
    "        recall = recall_score(y_test, predict)\n",
    "        \n",
    "        list_with_acc.append(accuracy)\n",
    "        list_with_pre.append(precision)\n",
    "        list_with_rec.append(recall)\n",
    "\n",
    "        \n",
    "    return [sum(list_with_acc) / len(list_with_acc), sum(list_with_pre) / len(list_with_pre), sum(list_with_rec) / len(list_with_rec)] "
   ]
  },
  {
   "cell_type": "code",
   "execution_count": null,
   "metadata": {
    "execution": {
     "iopub.execute_input": "2023-01-28T11:08:23.939776Z",
     "iopub.status.busy": "2023-01-28T11:08:23.939451Z",
     "iopub.status.idle": "2023-01-28T11:08:23.951987Z",
     "shell.execute_reply": "2023-01-28T11:08:23.950623Z",
     "shell.execute_reply.started": "2023-01-28T11:08:23.939746Z"
    }
   },
   "outputs": [],
   "source": [
    "def plot_roc_auc(model):\n",
    "    y_pred = model.predict_proba(x_test)[:, 1]\n",
    "    fpr, tpr, _ = roc_curve(y_test, y_pred)\n",
    "    auc = round(roc_auc_score(y_test, y_pred), 4)\n",
    "    plt.figure(figsize=(15, 10))\n",
    "    plt.plot(fpr, tpr, label=\"Stacking, AUC=\" + str(auc))\n",
    "    plt.plot([0, 1], [0, 1])\n",
    "    plt.legend()\n",
    "    plt.show()"
   ]
  },
  {
   "cell_type": "code",
   "execution_count": null,
   "metadata": {
    "execution": {
     "iopub.execute_input": "2023-01-28T11:08:23.953917Z",
     "iopub.status.busy": "2023-01-28T11:08:23.953498Z",
     "iopub.status.idle": "2023-01-28T11:08:24.83401Z",
     "shell.execute_reply": "2023-01-28T11:08:24.832802Z",
     "shell.execute_reply.started": "2023-01-28T11:08:23.953883Z"
    }
   },
   "outputs": [],
   "source": [
    "gbc_model = GradientBoostingClassifier().fit(x_train, y_train.astype('int8'))\n",
    "\n",
    "stats_of_test(gbc_model)"
   ]
  },
  {
   "cell_type": "code",
   "execution_count": null,
   "metadata": {
    "execution": {
     "iopub.execute_input": "2023-01-28T11:08:24.835675Z",
     "iopub.status.busy": "2023-01-28T11:08:24.835308Z",
     "iopub.status.idle": "2023-01-28T11:08:25.103708Z",
     "shell.execute_reply": "2023-01-28T11:08:25.102531Z",
     "shell.execute_reply.started": "2023-01-28T11:08:24.835627Z"
    }
   },
   "outputs": [],
   "source": [
    "plot_roc_auc(gbc_model)"
   ]
  },
  {
   "cell_type": "markdown",
   "metadata": {},
   "source": [
    "#Trying multiple models"
   ]
  },
  {
   "cell_type": "code",
   "execution_count": null,
   "metadata": {
    "execution": {
     "iopub.execute_input": "2023-01-28T11:08:25.10528Z",
     "iopub.status.busy": "2023-01-28T11:08:25.10495Z",
     "iopub.status.idle": "2023-01-28T11:08:25.111491Z",
     "shell.execute_reply": "2023-01-28T11:08:25.109906Z",
     "shell.execute_reply.started": "2023-01-28T11:08:25.105251Z"
    }
   },
   "outputs": [],
   "source": [
    "from catboost import CatBoostClassifier"
   ]
  },
  {
   "cell_type": "code",
   "execution_count": null,
   "metadata": {
    "execution": {
     "iopub.execute_input": "2023-01-28T11:08:25.1212Z",
     "iopub.status.busy": "2023-01-28T11:08:25.120784Z",
     "iopub.status.idle": "2023-01-28T11:08:29.065883Z",
     "shell.execute_reply": "2023-01-28T11:08:29.0645Z",
     "shell.execute_reply.started": "2023-01-28T11:08:25.121168Z"
    }
   },
   "outputs": [],
   "source": [
    "cat_model = CatBoostClassifier(loss_function='Logloss',\n",
    "    verbose=0).fit(x_train, y_train.astype('int8'))\n",
    "\n",
    "stats_of_test(cat_model)"
   ]
  },
  {
   "cell_type": "code",
   "execution_count": null,
   "metadata": {
    "execution": {
     "iopub.execute_input": "2023-01-28T11:08:29.067838Z",
     "iopub.status.busy": "2023-01-28T11:08:29.067348Z",
     "iopub.status.idle": "2023-01-28T11:08:29.089354Z",
     "shell.execute_reply": "2023-01-28T11:08:29.087935Z",
     "shell.execute_reply.started": "2023-01-28T11:08:29.067715Z"
    }
   },
   "outputs": [],
   "source": [
    "cat_model.get_feature_importance(prettified=True)"
   ]
  },
  {
   "cell_type": "code",
   "execution_count": null,
   "metadata": {
    "execution": {
     "iopub.execute_input": "2023-01-28T11:08:29.091112Z",
     "iopub.status.busy": "2023-01-28T11:08:29.090742Z",
     "iopub.status.idle": "2023-01-28T11:08:29.353584Z",
     "shell.execute_reply": "2023-01-28T11:08:29.352084Z",
     "shell.execute_reply.started": "2023-01-28T11:08:29.091079Z"
    }
   },
   "outputs": [],
   "source": [
    "plot_roc_auc(cat_model)"
   ]
  },
  {
   "cell_type": "code",
   "execution_count": null,
   "metadata": {
    "execution": {
     "iopub.execute_input": "2023-01-28T11:08:29.356104Z",
     "iopub.status.busy": "2023-01-28T11:08:29.355563Z",
     "iopub.status.idle": "2023-01-28T11:08:29.362527Z",
     "shell.execute_reply": "2023-01-28T11:08:29.360933Z",
     "shell.execute_reply.started": "2023-01-28T11:08:29.356056Z"
    }
   },
   "outputs": [],
   "source": [
    "import xgboost as xgb"
   ]
  },
  {
   "cell_type": "code",
   "execution_count": null,
   "metadata": {
    "execution": {
     "iopub.execute_input": "2023-01-28T11:08:29.365123Z",
     "iopub.status.busy": "2023-01-28T11:08:29.364572Z",
     "iopub.status.idle": "2023-01-28T11:08:29.512018Z",
     "shell.execute_reply": "2023-01-28T11:08:29.510593Z",
     "shell.execute_reply.started": "2023-01-28T11:08:29.365073Z"
    }
   },
   "outputs": [],
   "source": [
    "xgb_model = xgb_cl = xgb.XGBClassifier(n_estimators=10).fit(x_train, y_train)\n",
    "\n",
    "stats_of_test(xgb_model)"
   ]
  },
  {
   "cell_type": "code",
   "execution_count": null,
   "metadata": {
    "execution": {
     "iopub.execute_input": "2023-01-28T11:08:29.514496Z",
     "iopub.status.busy": "2023-01-28T11:08:29.513746Z",
     "iopub.status.idle": "2023-01-28T11:08:29.783805Z",
     "shell.execute_reply": "2023-01-28T11:08:29.782072Z",
     "shell.execute_reply.started": "2023-01-28T11:08:29.514446Z"
    }
   },
   "outputs": [],
   "source": [
    "plot_roc_auc(xgb_model)"
   ]
  },
  {
   "cell_type": "code",
   "execution_count": null,
   "metadata": {
    "execution": {
     "iopub.execute_input": "2023-01-28T11:08:29.787183Z",
     "iopub.status.busy": "2023-01-28T11:08:29.785943Z",
     "iopub.status.idle": "2023-01-28T11:08:29.793113Z",
     "shell.execute_reply": "2023-01-28T11:08:29.79206Z",
     "shell.execute_reply.started": "2023-01-28T11:08:29.787133Z"
    }
   },
   "outputs": [],
   "source": [
    "from lightgbm import LGBMClassifier"
   ]
  },
  {
   "cell_type": "code",
   "execution_count": null,
   "metadata": {
    "execution": {
     "iopub.execute_input": "2023-01-28T11:08:29.794675Z",
     "iopub.status.busy": "2023-01-28T11:08:29.794348Z",
     "iopub.status.idle": "2023-01-28T11:08:29.995449Z",
     "shell.execute_reply": "2023-01-28T11:08:29.994343Z",
     "shell.execute_reply.started": "2023-01-28T11:08:29.794646Z"
    }
   },
   "outputs": [],
   "source": [
    "lgbm = LGBMClassifier(random_state=1)\n",
    "lgbm.fit(x_train, y_train.astype('int8'))"
   ]
  },
  {
   "cell_type": "code",
   "execution_count": null,
   "metadata": {
    "execution": {
     "iopub.execute_input": "2023-01-28T11:08:30.001123Z",
     "iopub.status.busy": "2023-01-28T11:08:30.000709Z",
     "iopub.status.idle": "2023-01-28T11:08:30.029382Z",
     "shell.execute_reply": "2023-01-28T11:08:30.028282Z",
     "shell.execute_reply.started": "2023-01-28T11:08:30.001089Z"
    }
   },
   "outputs": [],
   "source": [
    "stats_of_test(lgbm)"
   ]
  },
  {
   "cell_type": "code",
   "execution_count": null,
   "metadata": {
    "execution": {
     "iopub.execute_input": "2023-01-28T11:08:30.034378Z",
     "iopub.status.busy": "2023-01-28T11:08:30.033624Z",
     "iopub.status.idle": "2023-01-28T11:08:30.306833Z",
     "shell.execute_reply": "2023-01-28T11:08:30.305247Z",
     "shell.execute_reply.started": "2023-01-28T11:08:30.034339Z"
    }
   },
   "outputs": [],
   "source": [
    "plot_roc_auc(lgbm)"
   ]
  },
  {
   "cell_type": "code",
   "execution_count": null,
   "metadata": {
    "execution": {
     "iopub.execute_input": "2023-01-28T11:08:30.308928Z",
     "iopub.status.busy": "2023-01-28T11:08:30.308428Z",
     "iopub.status.idle": "2023-01-28T11:08:30.314012Z",
     "shell.execute_reply": "2023-01-28T11:08:30.312826Z",
     "shell.execute_reply.started": "2023-01-28T11:08:30.308891Z"
    }
   },
   "outputs": [],
   "source": [
    "from sklearn.neighbors import KNeighborsClassifier"
   ]
  },
  {
   "cell_type": "code",
   "execution_count": null,
   "metadata": {
    "execution": {
     "iopub.execute_input": "2023-01-28T11:08:30.316665Z",
     "iopub.status.busy": "2023-01-28T11:08:30.316085Z",
     "iopub.status.idle": "2023-01-28T11:08:30.842505Z",
     "shell.execute_reply": "2023-01-28T11:08:30.841218Z",
     "shell.execute_reply.started": "2023-01-28T11:08:30.31661Z"
    }
   },
   "outputs": [],
   "source": [
    "knn = KNeighborsClassifier()\n",
    "knn.fit(x_train, y_train.astype('int8'))\n",
    "\n",
    "stats_of_test(knn)"
   ]
  },
  {
   "cell_type": "code",
   "execution_count": null,
   "metadata": {
    "execution": {
     "iopub.execute_input": "2023-01-28T11:08:30.844701Z",
     "iopub.status.busy": "2023-01-28T11:08:30.844276Z",
     "iopub.status.idle": "2023-01-28T11:08:31.52633Z",
     "shell.execute_reply": "2023-01-28T11:08:31.52509Z",
     "shell.execute_reply.started": "2023-01-28T11:08:30.844665Z"
    }
   },
   "outputs": [],
   "source": [
    "plot_roc_auc(knn)"
   ]
  },
  {
   "cell_type": "code",
   "execution_count": null,
   "metadata": {
    "execution": {
     "iopub.execute_input": "2023-01-28T11:08:31.528126Z",
     "iopub.status.busy": "2023-01-28T11:08:31.527716Z",
     "iopub.status.idle": "2023-01-28T11:11:52.905015Z",
     "shell.execute_reply": "2023-01-28T11:11:52.903676Z",
     "shell.execute_reply.started": "2023-01-28T11:08:31.528084Z"
    }
   },
   "outputs": [],
   "source": [
    "from sklearn.ensemble import BaggingClassifier\n",
    "\n",
    "\n",
    "baggingClf = BaggingClassifier(base_estimator=CatBoostClassifier(verbose=0), \n",
    "                               n_estimators=50, \n",
    "                               random_state=12)\n",
    "\n",
    "baggingClf.fit(x_train, y_train.astype('int8').ravel())"
   ]
  },
  {
   "cell_type": "code",
   "execution_count": null,
   "metadata": {
    "execution": {
     "iopub.execute_input": "2023-01-28T11:11:52.906753Z",
     "iopub.status.busy": "2023-01-28T11:11:52.906416Z",
     "iopub.status.idle": "2023-01-28T11:11:54.186071Z",
     "shell.execute_reply": "2023-01-28T11:11:54.1849Z",
     "shell.execute_reply.started": "2023-01-28T11:11:52.906722Z"
    }
   },
   "outputs": [],
   "source": [
    "stats_of_test(baggingClf)"
   ]
  },
  {
   "cell_type": "code",
   "execution_count": null,
   "metadata": {
    "execution": {
     "iopub.execute_input": "2023-01-28T11:11:54.188892Z",
     "iopub.status.busy": "2023-01-28T11:11:54.187968Z",
     "iopub.status.idle": "2023-01-28T11:11:55.760197Z",
     "shell.execute_reply": "2023-01-28T11:11:55.758961Z",
     "shell.execute_reply.started": "2023-01-28T11:11:54.188842Z"
    }
   },
   "outputs": [],
   "source": [
    "plot_roc_auc(baggingClf)"
   ]
  },
  {
   "cell_type": "code",
   "execution_count": null,
   "metadata": {
    "execution": {
     "iopub.execute_input": "2023-01-28T11:11:55.763507Z",
     "iopub.status.busy": "2023-01-28T11:11:55.762982Z",
     "iopub.status.idle": "2023-01-28T11:12:26.230311Z",
     "shell.execute_reply": "2023-01-28T11:12:26.228993Z",
     "shell.execute_reply.started": "2023-01-28T11:11:55.763456Z"
    }
   },
   "outputs": [],
   "source": [
    "from sklearn.ensemble import StackingClassifier\n",
    "from sklearn.linear_model import LogisticRegression\n",
    "from sklearn.svm import SVC\n",
    "\n",
    "\n",
    "estimators = [('lr', LogisticRegression()), \n",
    "              ('boosting', CatBoostClassifier(verbose=0)),\n",
    "              ('knn', KNeighborsClassifier()),\n",
    "              ('lgbm', LGBMClassifier())]\n",
    "stackingClf = StackingClassifier(estimators=estimators, \n",
    "                                 final_estimator=SVC(probability=True))\n",
    "\n",
    "stackingClf.fit(x_train, y_train.astype('int8').ravel())"
   ]
  },
  {
   "cell_type": "code",
   "execution_count": null,
   "metadata": {
    "execution": {
     "iopub.execute_input": "2023-01-28T11:12:26.232966Z",
     "iopub.status.busy": "2023-01-28T11:12:26.232222Z",
     "iopub.status.idle": "2023-01-28T11:12:27.182214Z",
     "shell.execute_reply": "2023-01-28T11:12:27.180723Z",
     "shell.execute_reply.started": "2023-01-28T11:12:26.232917Z"
    }
   },
   "outputs": [],
   "source": [
    "stats_of_test(stackingClf)"
   ]
  },
  {
   "cell_type": "code",
   "execution_count": null,
   "metadata": {
    "execution": {
     "iopub.execute_input": "2023-01-28T11:12:27.184691Z",
     "iopub.status.busy": "2023-01-28T11:12:27.183933Z",
     "iopub.status.idle": "2023-01-28T11:12:28.255101Z",
     "shell.execute_reply": "2023-01-28T11:12:28.254048Z",
     "shell.execute_reply.started": "2023-01-28T11:12:27.184654Z"
    }
   },
   "outputs": [],
   "source": [
    "plot_roc_auc(stackingClf)"
   ]
  },
  {
   "cell_type": "code",
   "execution_count": null,
   "metadata": {
    "execution": {
     "iopub.execute_input": "2023-01-28T11:14:41.895071Z",
     "iopub.status.busy": "2023-01-28T11:14:41.894499Z",
     "iopub.status.idle": "2023-01-28T11:15:16.716252Z",
     "shell.execute_reply": "2023-01-28T11:15:16.715216Z",
     "shell.execute_reply.started": "2023-01-28T11:14:41.89503Z"
    }
   },
   "outputs": [],
   "source": [
    "from sklearn.ensemble import RandomForestClassifier\n",
    "\n",
    "\n",
    "estimators_1 = [('lr', LogisticRegression()), \n",
    "              ('boosting', CatBoostClassifier(verbose=0)),\n",
    "              ('knn', KNeighborsClassifier()),\n",
    "              ('lgbm', LGBMClassifier()),\n",
    "              ('forest', RandomForestClassifier())]\n",
    "stackingClf_1 = StackingClassifier(estimators=estimators_1, \n",
    "                                 final_estimator=SVC(probability=True))\n",
    "\n",
    "stackingClf_1.fit(x_train, y_train.astype('int8').ravel())"
   ]
  },
  {
   "cell_type": "code",
   "execution_count": null,
   "metadata": {
    "execution": {
     "iopub.execute_input": "2023-01-28T11:15:16.718673Z",
     "iopub.status.busy": "2023-01-28T11:15:16.718089Z",
     "iopub.status.idle": "2023-01-28T11:15:17.672766Z",
     "shell.execute_reply": "2023-01-28T11:15:17.671907Z",
     "shell.execute_reply.started": "2023-01-28T11:15:16.718636Z"
    }
   },
   "outputs": [],
   "source": [
    "stats_of_test(stackingClf_1)"
   ]
  },
  {
   "cell_type": "code",
   "execution_count": null,
   "metadata": {
    "execution": {
     "iopub.execute_input": "2023-01-28T11:15:17.674846Z",
     "iopub.status.busy": "2023-01-28T11:15:17.674275Z",
     "iopub.status.idle": "2023-01-28T11:15:18.862245Z",
     "shell.execute_reply": "2023-01-28T11:15:18.861068Z",
     "shell.execute_reply.started": "2023-01-28T11:15:17.674799Z"
    }
   },
   "outputs": [],
   "source": [
    "plot_roc_auc(stackingClf_1)"
   ]
  },
  {
   "cell_type": "code",
   "execution_count": null,
   "metadata": {
    "execution": {
     "iopub.execute_input": "2023-01-28T11:16:47.06297Z",
     "iopub.status.busy": "2023-01-28T11:16:47.062515Z",
     "iopub.status.idle": "2023-01-28T11:17:24.680174Z",
     "shell.execute_reply": "2023-01-28T11:17:24.678968Z",
     "shell.execute_reply.started": "2023-01-28T11:16:47.062932Z"
    }
   },
   "outputs": [],
   "source": [
    "estimators_2 = [('lr', LogisticRegression()), \n",
    "              ('boosting', GradientBoostingClassifier()),\n",
    "              ('forest', RandomForestClassifier()),\n",
    "              ('knn', KNeighborsClassifier()),\n",
    "              ('cat', CatBoostClassifier(verbose=0))]\n",
    "stackingClf_2 = StackingClassifier(estimators=estimators_2, \n",
    "                                 final_estimator=SVC(probability=True))\n",
    "\n",
    "stackingClf_2.fit(x_train, y_train.astype('int8').ravel())"
   ]
  },
  {
   "cell_type": "code",
   "execution_count": null,
   "metadata": {
    "execution": {
     "iopub.execute_input": "2023-01-28T11:17:24.682594Z",
     "iopub.status.busy": "2023-01-28T11:17:24.68222Z",
     "iopub.status.idle": "2023-01-28T11:17:25.644287Z",
     "shell.execute_reply": "2023-01-28T11:17:25.642905Z",
     "shell.execute_reply.started": "2023-01-28T11:17:24.68256Z"
    }
   },
   "outputs": [],
   "source": [
    "stats_of_test(stackingClf_2)"
   ]
  },
  {
   "cell_type": "code",
   "execution_count": null,
   "metadata": {
    "execution": {
     "iopub.execute_input": "2023-01-28T11:17:25.647058Z",
     "iopub.status.busy": "2023-01-28T11:17:25.646537Z",
     "iopub.status.idle": "2023-01-28T11:17:26.83348Z",
     "shell.execute_reply": "2023-01-28T11:17:26.832146Z",
     "shell.execute_reply.started": "2023-01-28T11:17:25.647008Z"
    }
   },
   "outputs": [],
   "source": [
    "plot_roc_auc(stackingClf_2)"
   ]
  },
  {
   "cell_type": "code",
   "execution_count": null,
   "metadata": {
    "execution": {
     "iopub.execute_input": "2023-01-28T11:18:51.33719Z",
     "iopub.status.busy": "2023-01-28T11:18:51.335699Z",
     "iopub.status.idle": "2023-01-28T11:19:08.705578Z",
     "shell.execute_reply": "2023-01-28T11:19:08.704389Z",
     "shell.execute_reply.started": "2023-01-28T11:18:51.337141Z"
    }
   },
   "outputs": [],
   "source": [
    "estimators_3 = [('lr', LogisticRegression()), \n",
    "              ('boosting', GradientBoostingClassifier()),\n",
    "              ('forest', RandomForestClassifier()),\n",
    "              ('knn', KNeighborsClassifier()),\n",
    "              ('lgbm', LGBMClassifier())]\n",
    "stackingClf_3 = StackingClassifier(estimators=estimators_3, \n",
    "                                 final_estimator=SVC(probability=True))\n",
    "\n",
    "stackingClf_3.fit(x_train, y_train.astype('int8').ravel())"
   ]
  },
  {
   "cell_type": "code",
   "execution_count": null,
   "metadata": {
    "execution": {
     "iopub.execute_input": "2023-01-28T11:19:08.708032Z",
     "iopub.status.busy": "2023-01-28T11:19:08.70764Z",
     "iopub.status.idle": "2023-01-28T11:19:09.677517Z",
     "shell.execute_reply": "2023-01-28T11:19:09.67621Z",
     "shell.execute_reply.started": "2023-01-28T11:19:08.707998Z"
    }
   },
   "outputs": [],
   "source": [
    "stats_of_test(stackingClf_3)"
   ]
  },
  {
   "cell_type": "code",
   "execution_count": null,
   "metadata": {
    "execution": {
     "iopub.execute_input": "2023-01-28T11:19:09.679116Z",
     "iopub.status.busy": "2023-01-28T11:19:09.67868Z",
     "iopub.status.idle": "2023-01-28T11:19:10.893499Z",
     "shell.execute_reply": "2023-01-28T11:19:10.892533Z",
     "shell.execute_reply.started": "2023-01-28T11:19:09.679082Z"
    }
   },
   "outputs": [],
   "source": [
    "plot_roc_auc(stackingClf_3)"
   ]
  },
  {
   "cell_type": "code",
   "execution_count": null,
   "metadata": {
    "execution": {
     "iopub.execute_input": "2023-01-28T11:19:40.473676Z",
     "iopub.status.busy": "2023-01-28T11:19:40.473191Z",
     "iopub.status.idle": "2023-01-28T11:19:40.541489Z",
     "shell.execute_reply": "2023-01-28T11:19:40.540133Z",
     "shell.execute_reply.started": "2023-01-28T11:19:40.473637Z"
    }
   },
   "outputs": [],
   "source": [
    "import pickle\n",
    "\n",
    "with open('gradientboosted.pkl','wb') as f:\n",
    "    pickle.dump(stackingClf_2, f)\n",
    "    \n",
    "with open('gradientboosted.pkl','rb') as f:\n",
    "    reloaded_model = pickle.load(f)"
   ]
  },
  {
   "cell_type": "markdown",
   "metadata": {},
   "source": [
    "# Test dataframe"
   ]
  },
  {
   "cell_type": "code",
   "execution_count": null,
   "metadata": {
    "execution": {
     "iopub.execute_input": "2023-01-28T11:19:40.837172Z",
     "iopub.status.busy": "2023-01-28T11:19:40.836709Z",
     "iopub.status.idle": "2023-01-28T11:19:40.871891Z",
     "shell.execute_reply": "2023-01-28T11:19:40.870622Z",
     "shell.execute_reply.started": "2023-01-28T11:19:40.837135Z"
    }
   },
   "outputs": [],
   "source": [
    "test_df = pd.read_csv('/kaggle/input/spaceship-titanic/test.csv')\n",
    "test_df.head()"
   ]
  },
  {
   "cell_type": "code",
   "execution_count": null,
   "metadata": {
    "execution": {
     "iopub.execute_input": "2023-01-28T11:19:40.991763Z",
     "iopub.status.busy": "2023-01-28T11:19:40.991354Z",
     "iopub.status.idle": "2023-01-28T11:19:41.069406Z",
     "shell.execute_reply": "2023-01-28T11:19:41.067964Z",
     "shell.execute_reply.started": "2023-01-28T11:19:40.99173Z"
    }
   },
   "outputs": [],
   "source": [
    "test_cdf = test_df.copy()\n",
    "clean(test_cdf)\n",
    "combo_info(test_cdf)"
   ]
  },
  {
   "cell_type": "code",
   "execution_count": null,
   "metadata": {
    "execution": {
     "iopub.execute_input": "2023-01-28T11:19:41.153841Z",
     "iopub.status.busy": "2023-01-28T11:19:41.15263Z",
     "iopub.status.idle": "2023-01-28T11:19:41.171404Z",
     "shell.execute_reply": "2023-01-28T11:19:41.169877Z",
     "shell.execute_reply.started": "2023-01-28T11:19:41.153778Z"
    }
   },
   "outputs": [],
   "source": [
    "test_X = pd.get_dummies(test_cdf.drop('PassengerId', axis=1))"
   ]
  },
  {
   "cell_type": "code",
   "execution_count": null,
   "metadata": {
    "execution": {
     "iopub.execute_input": "2023-01-28T11:19:41.321314Z",
     "iopub.status.busy": "2023-01-28T11:19:41.320879Z",
     "iopub.status.idle": "2023-01-28T11:19:42.776542Z",
     "shell.execute_reply": "2023-01-28T11:19:42.774979Z",
     "shell.execute_reply.started": "2023-01-28T11:19:41.321275Z"
    }
   },
   "outputs": [],
   "source": [
    "end_predict = reloaded_model.predict(test_X)"
   ]
  },
  {
   "cell_type": "code",
   "execution_count": null,
   "metadata": {
    "execution": {
     "iopub.execute_input": "2023-01-28T11:19:42.779282Z",
     "iopub.status.busy": "2023-01-28T11:19:42.778847Z",
     "iopub.status.idle": "2023-01-28T11:19:42.801524Z",
     "shell.execute_reply": "2023-01-28T11:19:42.800537Z",
     "shell.execute_reply.started": "2023-01-28T11:19:42.779241Z"
    }
   },
   "outputs": [],
   "source": [
    "pred = list(map(lambda x: False if x == 0 else True, end_predict))\n",
    "output = pd.DataFrame({'PassengerId': test_cdf.PassengerId,\n",
    "                       'Transported': pred})\n",
    "output.to_csv('submission.csv', index=False)"
   ]
  },
  {
   "cell_type": "code",
   "execution_count": null,
   "metadata": {},
   "outputs": [],
   "source": []
  },
  {
   "cell_type": "code",
   "execution_count": null,
   "metadata": {},
   "outputs": [],
   "source": []
  }
 ],
 "metadata": {
  "kernelspec": {
   "display_name": "Python 3 (ipykernel)",
   "language": "python",
   "name": "python3"
  },
  "language_info": {
   "codemirror_mode": {
    "name": "ipython",
    "version": 3
   },
   "file_extension": ".py",
   "mimetype": "text/x-python",
   "name": "python",
   "nbconvert_exporter": "python",
   "pygments_lexer": "ipython3",
   "version": "3.9.12"
  }
 },
 "nbformat": 4,
 "nbformat_minor": 4
}
